{
 "cells": [
  {
   "cell_type": "code",
   "execution_count": 1,
   "metadata": {},
   "outputs": [
    {
     "name": "stdout",
     "output_type": "stream",
     "text": [
      "Libraries imported successfully\n"
     ]
    }
   ],
   "source": [
    "import os\n",
    "import sys\n",
    "\n",
    "# Add the project root directory to Python path\n",
    "project_root = os.path.abspath(os.path.join(os.path.dirname('__file__'), '..'))\n",
    "if project_root not in sys.path:\n",
    "    sys.path.append(project_root)\n",
    "\n",
    "# Now your imports\n",
    "import warnings\n",
    "from typing import Dict, Any\n",
    "import numpy as np\n",
    "import pandas as pd\n",
    "from datetime import datetime, UTC\n",
    "from sklearn.model_selection import ParameterGrid\n",
    "from sklearn.ensemble import RandomForestRegressor\n",
    "from sklearn.preprocessing import StandardScaler\n",
    "\n",
    "from fractal.core.pipeline import (\n",
    "    DefaultPipeline, MLFlowConfig, ExperimentConfig)\n",
    "\n",
    "from ml_basis_strategy import MLBasisStrategy, MLBasisParams\n",
    "from mb_hl_strategy import build_observations\n",
    "\n",
    "# Use absolute import instead of relative\n",
    "from funding_rate_analysis.eth_funding_rate_sign_prediction import LSTMModel\n",
    "import torch\n",
    "\n",
    "warnings.filterwarnings('ignore')\n",
    "\n",
    "%load_ext autoreload\n",
    "%autoreload 2\n",
    "\n",
    "from ml_pipeline import MLPredictor, build_grid"
   ]
  },
  {
   "cell_type": "code",
   "execution_count": 5,
   "metadata": {},
   "outputs": [
    {
     "name": "stdout",
     "output_type": "stream",
     "text": [
      "Loaded LSTM model weights from /Users/adpudovnikov/Documents/Study/Crypto/crypto_strategy/model_weights/model_weights_24hr_20250518_235840.pth\n",
      "Length of valid grid: 3\n",
      "==================================================\n",
      "Create and run pipeline\n",
      "==================================================\n",
      "🏃 View run bouncy-smelt-375 at: http://127.0.0.1:8080/#/experiments/631767892591881119/runs/81ade1733ee247f6a8ba45d5414ed7e9\n",
      "🧪 View experiment at: http://127.0.0.1:8080/#/experiments/631767892591881119\n",
      "🏃 View run unique-stork-627 at: http://127.0.0.1:8080/#/experiments/631767892591881119/runs/20fdb7339a6c47938ccde6d22fd58a9e\n",
      "🧪 View experiment at: http://127.0.0.1:8080/#/experiments/631767892591881119\n",
      "🏃 View run fortunate-frog-167 at: http://127.0.0.1:8080/#/experiments/631767892591881119/runs/0af5ed821fc64c65978cfc7c374a10dd\n",
      "🧪 View experiment at: http://127.0.0.1:8080/#/experiments/631767892591881119\n"
     ]
    }
   ],
   "source": [
    "ticker: str = 'ETH'\n",
    "start_time = datetime(2023, 1, 1, tzinfo=UTC)\n",
    "end_time = datetime(2025, 5, 5, tzinfo=UTC)\n",
    "fidelity = '1h'\n",
    "experiment_name = f'ml_basis_{fidelity}_{ticker}_{start_time.strftime(\"%Y-%m-%d\")}_{end_time.strftime(\"%Y-%m-%d\")}'\n",
    "\n",
    "# Define MLFlow configuration\n",
    "mlflow_uri = 'http://127.0.0.1:8080'\n",
    "if not mlflow_uri:\n",
    "    raise ValueError(\"MLFLOW_URI isn't set.\")\n",
    "\n",
    "mlflow_config: MLFlowConfig = MLFlowConfig(\n",
    "    mlflow_uri=mlflow_uri,\n",
    "    experiment_name=experiment_name,\n",
    ")\n",
    "\n",
    "# Build observations\n",
    "observations = build_observations(ticker, start_time, end_time, fidelity=fidelity)\n",
    "assert len(observations) > 0\n",
    "\n",
    "# Define experiment configuration\n",
    "experiment_config: ExperimentConfig = ExperimentConfig(\n",
    "    strategy_type=MLBasisStrategy,\n",
    "    backtest_observations=observations,\n",
    "    window_size=24 * 30,  # 30 days window\n",
    "    params_grid=build_grid(observations),\n",
    "    debug=True\n",
    ")\n",
    "print(\"=\" * 50, \"Create and run pipeline\", \"=\" * 50, sep=\"\\n\")\n",
    "\n",
    "# Create and run pipeline\n",
    "pipeline: DefaultPipeline = DefaultPipeline(\n",
    "    experiment_config=experiment_config,\n",
    "    mlflow_config=mlflow_config\n",
    ")\n",
    "pipeline.run() "
   ]
  }
 ],
 "metadata": {
  "kernelspec": {
   "display_name": "flex",
   "language": "python",
   "name": "python3"
  },
  "language_info": {
   "codemirror_mode": {
    "name": "ipython",
    "version": 3
   },
   "file_extension": ".py",
   "mimetype": "text/x-python",
   "name": "python",
   "nbconvert_exporter": "python",
   "pygments_lexer": "ipython3",
   "version": "3.11.11"
  }
 },
 "nbformat": 4,
 "nbformat_minor": 2
}
